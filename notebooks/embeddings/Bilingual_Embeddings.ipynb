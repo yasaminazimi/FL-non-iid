{
  "cells": [
    {
      "cell_type": "markdown",
      "metadata": {
        "id": "tf-U0kGCrI0N"
      },
      "source": [
        "## Jina Embeddings Top-Performing Open-Source Bilingual Models Now On Hugging Face\n",
        "\n",
        "In this tutorial, we'll download the Jina Embeddings v2 bilingual German-English model and use it for cross-langauge information retrieval.\n"
      ]
    },
    {
      "cell_type": "markdown",
      "metadata": {
        "id": "v7SrKjNWrevC"
      },
      "source": [
        "First, install the necessary libraries: `transformers`, `faiss-cpu` ([FAISS](https://faiss.ai/)), and `bs4` ([Beautiful Soup](https://www.crummy.com/software/BeautifulSoup/)):"
      ]
    },
    {
      "cell_type": "code",
      "execution_count": null,
      "metadata": {
        "id": "4p2ZX5mZrFqm"
      },
      "outputs": [],
      "source": [
        "!pip install transformers faiss-cpu bs4"
      ]
    },
    {
      "cell_type": "markdown",
      "metadata": {
        "id": "1LLxxRSNsJeI"
      },
      "source": [
        "Next, you will need a Hugging Face access token. Sign up for a Hugging Face account if you don't already have one and [follow these instructions](https://huggingface.co/docs/hub/security-tokens) to make a token. Then, insert your token into the code below and run it."
      ]
    },
    {
      "cell_type": "code",
      "execution_count": null,
      "metadata": {
        "id": "PWfrrhARr1U1"
      },
      "outputs": [],
      "source": [
        "import os\n",
        "\n",
        "os.environ['HF_TOKEN'] = \"<your token>\""
      ]
    },
    {
      "cell_type": "markdown",
      "metadata": {
        "id": "MeRH8A6ltUcD"
      },
      "source": [
        "## Download Jina Embeddings v2 for German and English\n",
        "\n",
        "Once your token is set, you can download the Jina Embeddings German-English bilingual model using the `transformers` library:"
      ]
    },
    {
      "cell_type": "code",
      "execution_count": null,
      "metadata": {
        "id": "6Ljd3m2VtMgF"
      },
      "outputs": [],
      "source": [
        "from transformers import AutoModel\n",
        "\n",
        "model = AutoModel.from_pretrained('jinaai/jina-embeddings-v2-base-de', trust_remote_code=True)"
      ]
    },
    {
      "cell_type": "markdown",
      "metadata": {
        "id": "XySKDxPptw0I"
      },
      "source": [
        "## Download English-language Data\n",
        "\n",
        "For this tutorial, we are going to get the English-language version of the book [*Pro Git: Everything You Need to Know About Git*](https://open.umn.edu/opentextbooks/textbooks/pro-git-everything-you-need-to-know-about-git). This book is also available in Chinese and German, which we’ll use later in this tutorial."
      ]
    },
    {
      "cell_type": "code",
      "execution_count": null,
      "metadata": {
        "id": "FZaQMnVitYk8"
      },
      "outputs": [],
      "source": [
        "!wget -O progit-en.epub https://open.umn.edu/opentextbooks/formats/3437"
      ]
    },
    {
      "cell_type": "markdown",
      "metadata": {
        "id": "kK78OURFuIFo"
      },
      "source": [
        "## Processing the Data\n",
        "\n",
        "The function below opens an EPUB file, splits the contents on the `<section>` tag, and stored it in a Python dictionary."
      ]
    },
    {
      "cell_type": "code",
      "execution_count": null,
      "metadata": {
        "id": "TJpbImqwuARZ"
      },
      "outputs": [],
      "source": [
        "from zipfile import ZipFile\n",
        "from bs4 import BeautifulSoup\n",
        "import copy\n",
        "\n",
        "def decompose_epub(file_name):\n",
        "\n",
        "  def to_top_text(section):\n",
        "    selected = copy.copy(section)\n",
        "    while next_section := selected.find(\"section\"):\n",
        "      next_section.decompose()\n",
        "    return selected.get_text().strip()\n",
        "\n",
        "  ret = {}\n",
        "  with ZipFile(file_name, 'r') as zip:\n",
        "    for name in zip.namelist():\n",
        "      if name.endswith(\".xhtml\"):\n",
        "        data = zip.read(name)\n",
        "        doc = BeautifulSoup(data.decode('utf-8'), 'html.parser')\n",
        "        ret[name + \":top\"] = to_top_text(doc)\n",
        "        for num, sect in enumerate(doc.find_all(\"section\")):\n",
        "          ret[name + f\"::{num}\"] = to_top_text(sect)\n",
        "  return ret"
      ]
    },
    {
      "cell_type": "markdown",
      "metadata": {
        "id": "bbY1RlCvu6L1"
      },
      "source": [
        "Process the book you just downloaded:"
      ]
    },
    {
      "cell_type": "code",
      "execution_count": null,
      "metadata": {
        "id": "bYaJknu0uabw"
      },
      "outputs": [],
      "source": [
        "book_data = decompose_epub(\"progit-en.epub\")"
      ]
    },
    {
      "cell_type": "markdown",
      "metadata": {
        "id": "ZDRJLDWwvGH0"
      },
      "source": [
        "The code below generates the embeddings and stores them in a FAISS index. Set the variable `batch_size` as appropriate to your resources. Colab without extra memory appears to work well with it set to 5.\n",
        "\n",
        "**This may take some time, depending on the speed and resources of the system you run it on.**"
      ]
    },
    {
      "cell_type": "code",
      "execution_count": null,
      "metadata": {
        "id": "0MKxviDEu9nl"
      },
      "outputs": [],
      "source": [
        "import faiss\n",
        "\n",
        "batch_size = 5\n",
        "\n",
        "vector_data = []\n",
        "faiss_index = faiss.IndexFlatIP(768)\n",
        "\n",
        "data = [(key, txt) for key, txt in book_data.items()]\n",
        "batches = [data[i:i + batch_size] for i in range(0, len(data), batch_size)]\n",
        "\n",
        "for ind, batch in enumerate(batches):\n",
        "    print(f\"Processing batch {ind + 1} of {len(batches)}\")\n",
        "    batch_embeddings = model.encode([x[1] for x in batch], normalize_embeddings=True)\n",
        "    vector_data.extend(batch)\n",
        "    faiss_index.add(batch_embeddings)"
      ]
    },
    {
      "cell_type": "markdown",
      "metadata": {
        "id": "H6xQGIryRBLy"
      },
      "source": [
        "Verify that we have 583 embeddings stored in the index:"
      ]
    },
    {
      "cell_type": "code",
      "execution_count": null,
      "metadata": {
        "id": "hBra-9F8RBLy"
      },
      "outputs": [],
      "source": [
        "# This should be 583\n",
        "faiss_index.ntotal"
      ]
    },
    {
      "cell_type": "markdown",
      "metadata": {
        "id": "87VzwDB4wJDB"
      },
      "source": [
        "Now, let's create a function to query the FAISS index and corresponding data:"
      ]
    },
    {
      "cell_type": "code",
      "execution_count": null,
      "metadata": {
        "id": "ma_uXO03vW3k"
      },
      "outputs": [],
      "source": [
        "def query(query_str):\n",
        "  query = model.encode([query_str], normalize_embeddings=True)\n",
        "  cosine, index = faiss_index.search(query, 1)\n",
        "  print(f\"Cosine: {cosine[0][0]}\")\n",
        "  loc, txt = vector_data[index[0][0]]\n",
        "  print(f\"Location: {loc}\\nText:\\n\\n{txt}\")"
      ]
    },
    {
      "cell_type": "markdown",
      "metadata": {
        "id": "HybcW66NRBLy"
      },
      "source": [
        "Let's query in English to get German answers:"
      ]
    },
    {
      "cell_type": "code",
      "execution_count": null,
      "metadata": {
        "id": "rSB2Kfk2vZjM"
      },
      "outputs": [],
      "source": [
        "# Translation: \"How do I roll back to a previous version?\"\n",
        "query(\"Wie kann ich auf eine frühere Version zurücksetzen?\")\n"
      ]
    },
    {
      "cell_type": "code",
      "execution_count": null,
      "metadata": {
        "id": "ADi7FXeQRBLy"
      },
      "outputs": [],
      "source": [
        "# Translation: \"What does 'version control' mean?\"\n",
        "query(\"Was bedeutet 'Versionsverwaltung'?\")\n"
      ]
    },
    {
      "cell_type": "markdown",
      "metadata": {
        "id": "ABzky7CeRBLy"
      },
      "source": [
        "## Reversing the Roles: Querying German documents with English\n",
        "\n",
        "The book [*Pro Git: Everything You Need to Know About Git*](https://open.umn.edu/opentextbooks/textbooks/pro-git-everything-you-need-to-know-about-git) is also available in German. We can use this same model to give this demo with the languages reversed:\n",
        "\n"
      ]
    },
    {
      "cell_type": "markdown",
      "metadata": {
        "id": "uNwbx60cRBLz"
      },
      "source": [
        "Download the German edition:"
      ]
    },
    {
      "cell_type": "code",
      "execution_count": null,
      "metadata": {
        "id": "RhM7PaiwRBLz"
      },
      "outputs": [],
      "source": [
        "!wget -O progit-de.epub https://open.umn.edu/opentextbooks/formats/3454"
      ]
    },
    {
      "cell_type": "markdown",
      "metadata": {
        "id": "OQRL3BHNRBLz"
      },
      "source": [
        "Process the book the same way we did for English:"
      ]
    },
    {
      "cell_type": "code",
      "execution_count": null,
      "metadata": {
        "id": "xVQaQmfkRBLz"
      },
      "outputs": [],
      "source": [
        "book_data = decompose_epub(\"progit-de.epub\")\n"
      ]
    },
    {
      "cell_type": "markdown",
      "metadata": {
        "id": "esHXdx9rRBLz"
      },
      "source": [
        "Now we generate embeddings for the German version the same way we did for English:"
      ]
    },
    {
      "cell_type": "code",
      "execution_count": null,
      "metadata": {
        "id": "rsrvAzxRRBLz"
      },
      "outputs": [],
      "source": [
        "batch_size = 5\n",
        "\n",
        "vector_data = []\n",
        "faiss_index = faiss.IndexFlatIP(768)\n",
        "\n",
        "data = [(key, txt) for key, txt in book_data.items()]\n",
        "batches = [data[i:i + batch_size] for i in range(0, len(data), batch_size)]\n",
        "\n",
        "for ind, batch in enumerate(batches):\n",
        "    print(f\"Processing batch {ind + 1} of {len(batches)}\")\n",
        "    batch_embeddings = model.encode([x[1] for x in batch], normalize_embeddings=True)\n",
        "    vector_data.extend(batch)\n",
        "    faiss_index.add(batch_embeddings)"
      ]
    },
    {
      "cell_type": "markdown",
      "metadata": {
        "id": "_0B1KvkeRBLz"
      },
      "source": [
        "We can use the same `query` function we used before, but with English questions:"
      ]
    },
    {
      "cell_type": "code",
      "execution_count": null,
      "metadata": {
        "id": "rRXd8QiLRBLz"
      },
      "outputs": [],
      "source": [
        "# The result should start with \"Was ist Versionsverwaltung?\"\n",
        "query(\"What is version control?\")"
      ]
    },
    {
      "cell_type": "markdown",
      "metadata": {
        "id": "tVLf_cP8RBLz"
      },
      "source": [
        "## Querying in Chinese\n",
        "The Chinese-English bilingual model works exactly the same way. To use the Chinese model instead, just run the following:\n",
        "\n"
      ]
    },
    {
      "cell_type": "code",
      "execution_count": null,
      "metadata": {
        "id": "Kye0-UV8RBLz"
      },
      "outputs": [],
      "source": [
        "from transformers import AutoModel\n",
        "\n",
        "model = AutoModel.from_pretrained('jinaai/jina-embeddings-v2-base-zh', trust_remote_code=True)"
      ]
    },
    {
      "cell_type": "markdown",
      "metadata": {
        "id": "WgUAtQ7kRBLz"
      },
      "source": [
        "Get the Chinese edition of [*Pro Git: Everything You Need to Know About Git*](https://open.umn.edu/opentextbooks/textbooks/pro-git-everything-you-need-to-know-about-git):"
      ]
    },
    {
      "cell_type": "code",
      "execution_count": null,
      "metadata": {
        "id": "0RPNRc0-RBLz"
      },
      "outputs": [],
      "source": [
        "!wget -O progit-zh.epub https://open.umn.edu/opentextbooks/formats/3455"
      ]
    },
    {
      "cell_type": "markdown",
      "metadata": {
        "id": "hGQl3CxSRBLz"
      },
      "source": [
        "Process the Chinese book like the German and English ones:"
      ]
    },
    {
      "cell_type": "code",
      "execution_count": null,
      "metadata": {
        "id": "S4MW2Qh9RBL0"
      },
      "outputs": [],
      "source": [
        "book_data = decompose_epub(\"progit-zh.epub\")\n"
      ]
    },
    {
      "cell_type": "markdown",
      "metadata": {
        "id": "kxiS9zQ6RBL0"
      },
      "source": [
        "You can just copy the code from the previous sections to process the book into a FAISS embeddings index, and query it in English for Chinese results."
      ]
    },
    {
      "cell_type": "code",
      "execution_count": null,
      "metadata": {
        "id": "vVpNcoKaRBL0"
      },
      "outputs": [],
      "source": []
    }
  ],
  "metadata": {
    "colab": {
      "provenance": []
    },
    "kernelspec": {
      "display_name": "Python 3 (ipykernel)",
      "language": "python",
      "name": "python3"
    },
    "language_info": {
      "codemirror_mode": {
        "name": "ipython",
        "version": 3
      },
      "file_extension": ".py",
      "mimetype": "text/x-python",
      "name": "python",
      "nbconvert_exporter": "python",
      "pygments_lexer": "ipython3",
      "version": "3.11.7"
    }
  },
  "nbformat": 4,
  "nbformat_minor": 0
}